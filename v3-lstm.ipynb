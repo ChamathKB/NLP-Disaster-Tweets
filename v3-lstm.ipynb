{
 "cells": [
  {
   "cell_type": "code",
   "execution_count": 6,
   "metadata": {
    "execution": {
     "iopub.execute_input": "2021-08-28T18:01:45.386377Z",
     "iopub.status.busy": "2021-08-28T18:01:45.385940Z",
     "iopub.status.idle": "2021-08-28T18:01:45.392150Z",
     "shell.execute_reply": "2021-08-28T18:01:45.391219Z",
     "shell.execute_reply.started": "2021-08-28T18:01:45.386340Z"
    }
   },
   "outputs": [],
   "source": [
    "import tensorflow as tf\n",
    "import numpy as np\n",
    "import pandas as pd\n",
    "import re\n",
    "from nltk.stem import WordNetLemmatizer\n",
    "from nltk.corpus import stopwords\n",
    "from sklearn.model_selection import train_test_split\n",
    "import matplotlib.pyplot as plt\n",
    "\n",
    "from tensorflow.keras.preprocessing.text import Tokenizer\n",
    "from tensorflow.keras.preprocessing.sequence import pad_sequences"
   ]
  },
  {
   "cell_type": "code",
   "execution_count": 2,
   "metadata": {
    "execution": {
     "iopub.execute_input": "2021-08-28T17:58:42.600863Z",
     "iopub.status.busy": "2021-08-28T17:58:42.600479Z",
     "iopub.status.idle": "2021-08-28T17:58:42.691734Z",
     "shell.execute_reply": "2021-08-28T17:58:42.690898Z",
     "shell.execute_reply.started": "2021-08-28T17:58:42.600830Z"
    }
   },
   "outputs": [
    {
     "data": {
      "text/html": [
       "<div>\n",
       "<style scoped>\n",
       "    .dataframe tbody tr th:only-of-type {\n",
       "        vertical-align: middle;\n",
       "    }\n",
       "\n",
       "    .dataframe tbody tr th {\n",
       "        vertical-align: top;\n",
       "    }\n",
       "\n",
       "    .dataframe thead th {\n",
       "        text-align: right;\n",
       "    }\n",
       "</style>\n",
       "<table border=\"1\" class=\"dataframe\">\n",
       "  <thead>\n",
       "    <tr style=\"text-align: right;\">\n",
       "      <th></th>\n",
       "      <th>id</th>\n",
       "      <th>keyword</th>\n",
       "      <th>location</th>\n",
       "      <th>text</th>\n",
       "      <th>target</th>\n",
       "    </tr>\n",
       "  </thead>\n",
       "  <tbody>\n",
       "    <tr>\n",
       "      <th>0</th>\n",
       "      <td>1</td>\n",
       "      <td>NaN</td>\n",
       "      <td>NaN</td>\n",
       "      <td>Our Deeds are the Reason of this #earthquake M...</td>\n",
       "      <td>1</td>\n",
       "    </tr>\n",
       "    <tr>\n",
       "      <th>1</th>\n",
       "      <td>4</td>\n",
       "      <td>NaN</td>\n",
       "      <td>NaN</td>\n",
       "      <td>Forest fire near La Ronge Sask. Canada</td>\n",
       "      <td>1</td>\n",
       "    </tr>\n",
       "    <tr>\n",
       "      <th>2</th>\n",
       "      <td>5</td>\n",
       "      <td>NaN</td>\n",
       "      <td>NaN</td>\n",
       "      <td>All residents asked to 'shelter in place' are ...</td>\n",
       "      <td>1</td>\n",
       "    </tr>\n",
       "    <tr>\n",
       "      <th>3</th>\n",
       "      <td>6</td>\n",
       "      <td>NaN</td>\n",
       "      <td>NaN</td>\n",
       "      <td>13,000 people receive #wildfires evacuation or...</td>\n",
       "      <td>1</td>\n",
       "    </tr>\n",
       "    <tr>\n",
       "      <th>4</th>\n",
       "      <td>7</td>\n",
       "      <td>NaN</td>\n",
       "      <td>NaN</td>\n",
       "      <td>Just got sent this photo from Ruby #Alaska as ...</td>\n",
       "      <td>1</td>\n",
       "    </tr>\n",
       "  </tbody>\n",
       "</table>\n",
       "</div>"
      ],
      "text/plain": [
       "   id keyword location                                               text  \\\n",
       "0   1     NaN      NaN  Our Deeds are the Reason of this #earthquake M...   \n",
       "1   4     NaN      NaN             Forest fire near La Ronge Sask. Canada   \n",
       "2   5     NaN      NaN  All residents asked to 'shelter in place' are ...   \n",
       "3   6     NaN      NaN  13,000 people receive #wildfires evacuation or...   \n",
       "4   7     NaN      NaN  Just got sent this photo from Ruby #Alaska as ...   \n",
       "\n",
       "   target  \n",
       "0       1  \n",
       "1       1  \n",
       "2       1  \n",
       "3       1  \n",
       "4       1  "
      ]
     },
     "execution_count": 2,
     "metadata": {},
     "output_type": "execute_result"
    }
   ],
   "source": [
    "train_data = pd.read_csv('../input/nlp-getting-started/train.csv')\n",
    "test_data = pd.read_csv('../input/nlp-getting-started/train.csv')\n",
    "\n",
    "train_data.head()"
   ]
  },
  {
   "cell_type": "code",
   "execution_count": 3,
   "metadata": {
    "execution": {
     "iopub.execute_input": "2021-08-28T17:58:45.969723Z",
     "iopub.status.busy": "2021-08-28T17:58:45.969396Z",
     "iopub.status.idle": "2021-08-28T17:58:45.980556Z",
     "shell.execute_reply": "2021-08-28T17:58:45.979591Z",
     "shell.execute_reply.started": "2021-08-28T17:58:45.969692Z"
    }
   },
   "outputs": [
    {
     "data": {
      "text/html": [
       "<div>\n",
       "<style scoped>\n",
       "    .dataframe tbody tr th:only-of-type {\n",
       "        vertical-align: middle;\n",
       "    }\n",
       "\n",
       "    .dataframe tbody tr th {\n",
       "        vertical-align: top;\n",
       "    }\n",
       "\n",
       "    .dataframe thead th {\n",
       "        text-align: right;\n",
       "    }\n",
       "</style>\n",
       "<table border=\"1\" class=\"dataframe\">\n",
       "  <thead>\n",
       "    <tr style=\"text-align: right;\">\n",
       "      <th></th>\n",
       "      <th>id</th>\n",
       "      <th>keyword</th>\n",
       "      <th>location</th>\n",
       "      <th>text</th>\n",
       "      <th>target</th>\n",
       "    </tr>\n",
       "  </thead>\n",
       "  <tbody>\n",
       "    <tr>\n",
       "      <th>0</th>\n",
       "      <td>1</td>\n",
       "      <td>NaN</td>\n",
       "      <td>NaN</td>\n",
       "      <td>Our Deeds are the Reason of this #earthquake M...</td>\n",
       "      <td>1</td>\n",
       "    </tr>\n",
       "    <tr>\n",
       "      <th>1</th>\n",
       "      <td>4</td>\n",
       "      <td>NaN</td>\n",
       "      <td>NaN</td>\n",
       "      <td>Forest fire near La Ronge Sask. Canada</td>\n",
       "      <td>1</td>\n",
       "    </tr>\n",
       "    <tr>\n",
       "      <th>2</th>\n",
       "      <td>5</td>\n",
       "      <td>NaN</td>\n",
       "      <td>NaN</td>\n",
       "      <td>All residents asked to 'shelter in place' are ...</td>\n",
       "      <td>1</td>\n",
       "    </tr>\n",
       "    <tr>\n",
       "      <th>3</th>\n",
       "      <td>6</td>\n",
       "      <td>NaN</td>\n",
       "      <td>NaN</td>\n",
       "      <td>13,000 people receive #wildfires evacuation or...</td>\n",
       "      <td>1</td>\n",
       "    </tr>\n",
       "    <tr>\n",
       "      <th>4</th>\n",
       "      <td>7</td>\n",
       "      <td>NaN</td>\n",
       "      <td>NaN</td>\n",
       "      <td>Just got sent this photo from Ruby #Alaska as ...</td>\n",
       "      <td>1</td>\n",
       "    </tr>\n",
       "  </tbody>\n",
       "</table>\n",
       "</div>"
      ],
      "text/plain": [
       "   id keyword location                                               text  \\\n",
       "0   1     NaN      NaN  Our Deeds are the Reason of this #earthquake M...   \n",
       "1   4     NaN      NaN             Forest fire near La Ronge Sask. Canada   \n",
       "2   5     NaN      NaN  All residents asked to 'shelter in place' are ...   \n",
       "3   6     NaN      NaN  13,000 people receive #wildfires evacuation or...   \n",
       "4   7     NaN      NaN  Just got sent this photo from Ruby #Alaska as ...   \n",
       "\n",
       "   target  \n",
       "0       1  \n",
       "1       1  \n",
       "2       1  \n",
       "3       1  \n",
       "4       1  "
      ]
     },
     "execution_count": 3,
     "metadata": {},
     "output_type": "execute_result"
    }
   ],
   "source": [
    "test_data.head()"
   ]
  },
  {
   "cell_type": "code",
   "execution_count": 4,
   "metadata": {
    "execution": {
     "iopub.execute_input": "2021-08-28T17:58:50.450170Z",
     "iopub.status.busy": "2021-08-28T17:58:50.449805Z",
     "iopub.status.idle": "2021-08-28T17:58:50.458977Z",
     "shell.execute_reply": "2021-08-28T17:58:50.458219Z",
     "shell.execute_reply.started": "2021-08-28T17:58:50.450139Z"
    }
   },
   "outputs": [
    {
     "data": {
      "text/plain": [
       "(7613, 5)"
      ]
     },
     "execution_count": 4,
     "metadata": {},
     "output_type": "execute_result"
    }
   ],
   "source": [
    "train_data.shape"
   ]
  },
  {
   "cell_type": "code",
   "execution_count": 7,
   "metadata": {
    "execution": {
     "iopub.execute_input": "2021-08-28T18:03:40.966353Z",
     "iopub.status.busy": "2021-08-28T18:03:40.965986Z",
     "iopub.status.idle": "2021-08-28T18:03:40.978134Z",
     "shell.execute_reply": "2021-08-28T18:03:40.976985Z",
     "shell.execute_reply.started": "2021-08-28T18:03:40.966319Z"
    }
   },
   "outputs": [],
   "source": [
    "stop_words = set(stopwords.words(\"english\")) \n",
    "lemmatizer = WordNetLemmatizer()\n",
    "\n",
    "def clean_text(text):\n",
    "    \"\"\"Removing special characters, uppercase letters and lemmatizing\"\"\"\n",
    "    \n",
    "    text = re.sub(r'[^\\w\\s]','',text, re.UNICODE)\n",
    "    text = text.lower()\n",
    "    text = [lemmatizer.lemmatize(token) for token in text.split(\" \")]\n",
    "    text = [lemmatizer.lemmatize(token, \"v\") for token in text]\n",
    "    text = \" \".join(text)\n",
    "    return text"
   ]
  },
  {
   "cell_type": "code",
   "execution_count": 10,
   "metadata": {
    "execution": {
     "iopub.execute_input": "2021-08-28T18:04:01.609998Z",
     "iopub.status.busy": "2021-08-28T18:04:01.609653Z",
     "iopub.status.idle": "2021-08-28T18:04:04.697418Z",
     "shell.execute_reply": "2021-08-28T18:04:04.696645Z",
     "shell.execute_reply.started": "2021-08-28T18:04:01.609966Z"
    }
   },
   "outputs": [
    {
     "data": {
      "text/html": [
       "<div>\n",
       "<style scoped>\n",
       "    .dataframe tbody tr th:only-of-type {\n",
       "        vertical-align: middle;\n",
       "    }\n",
       "\n",
       "    .dataframe tbody tr th {\n",
       "        vertical-align: top;\n",
       "    }\n",
       "\n",
       "    .dataframe thead th {\n",
       "        text-align: right;\n",
       "    }\n",
       "</style>\n",
       "<table border=\"1\" class=\"dataframe\">\n",
       "  <thead>\n",
       "    <tr style=\"text-align: right;\">\n",
       "      <th></th>\n",
       "      <th>id</th>\n",
       "      <th>keyword</th>\n",
       "      <th>location</th>\n",
       "      <th>text</th>\n",
       "      <th>target</th>\n",
       "    </tr>\n",
       "  </thead>\n",
       "  <tbody>\n",
       "    <tr>\n",
       "      <th>0</th>\n",
       "      <td>1</td>\n",
       "      <td>NaN</td>\n",
       "      <td>NaN</td>\n",
       "      <td>our deed be the reason of this earthquake may ...</td>\n",
       "      <td>1</td>\n",
       "    </tr>\n",
       "    <tr>\n",
       "      <th>1</th>\n",
       "      <td>4</td>\n",
       "      <td>NaN</td>\n",
       "      <td>NaN</td>\n",
       "      <td>forest fire near la ronge sask canada</td>\n",
       "      <td>1</td>\n",
       "    </tr>\n",
       "    <tr>\n",
       "      <th>2</th>\n",
       "      <td>5</td>\n",
       "      <td>NaN</td>\n",
       "      <td>NaN</td>\n",
       "      <td>all resident ask to shelter in place be be not...</td>\n",
       "      <td>1</td>\n",
       "    </tr>\n",
       "    <tr>\n",
       "      <th>3</th>\n",
       "      <td>6</td>\n",
       "      <td>NaN</td>\n",
       "      <td>NaN</td>\n",
       "      <td>13000 people receive wildfire evacuation order...</td>\n",
       "      <td>1</td>\n",
       "    </tr>\n",
       "    <tr>\n",
       "      <th>4</th>\n",
       "      <td>7</td>\n",
       "      <td>NaN</td>\n",
       "      <td>NaN</td>\n",
       "      <td>just get send this photo from ruby alaska a sm...</td>\n",
       "      <td>1</td>\n",
       "    </tr>\n",
       "  </tbody>\n",
       "</table>\n",
       "</div>"
      ],
      "text/plain": [
       "   id keyword location                                               text  \\\n",
       "0   1     NaN      NaN  our deed be the reason of this earthquake may ...   \n",
       "1   4     NaN      NaN              forest fire near la ronge sask canada   \n",
       "2   5     NaN      NaN  all resident ask to shelter in place be be not...   \n",
       "3   6     NaN      NaN  13000 people receive wildfire evacuation order...   \n",
       "4   7     NaN      NaN  just get send this photo from ruby alaska a sm...   \n",
       "\n",
       "   target  \n",
       "0       1  \n",
       "1       1  \n",
       "2       1  \n",
       "3       1  \n",
       "4       1  "
      ]
     },
     "execution_count": 10,
     "metadata": {},
     "output_type": "execute_result"
    }
   ],
   "source": [
    "train_data['text'] = train_data.text.apply(lambda x: clean_text(str(x)))\n",
    "train_data.head()"
   ]
  },
  {
   "cell_type": "code",
   "execution_count": 11,
   "metadata": {
    "execution": {
     "iopub.execute_input": "2021-08-28T18:04:11.951061Z",
     "iopub.status.busy": "2021-08-28T18:04:11.950697Z",
     "iopub.status.idle": "2021-08-28T18:04:11.955494Z",
     "shell.execute_reply": "2021-08-28T18:04:11.954086Z",
     "shell.execute_reply.started": "2021-08-28T18:04:11.951028Z"
    }
   },
   "outputs": [],
   "source": [
    "X = train_data['text']\n",
    "y = train_data['target']"
   ]
  },
  {
   "cell_type": "code",
   "execution_count": 12,
   "metadata": {
    "execution": {
     "iopub.execute_input": "2021-08-28T18:04:21.199929Z",
     "iopub.status.busy": "2021-08-28T18:04:21.199532Z",
     "iopub.status.idle": "2021-08-28T18:04:21.207619Z",
     "shell.execute_reply": "2021-08-28T18:04:21.206403Z",
     "shell.execute_reply.started": "2021-08-28T18:04:21.199872Z"
    }
   },
   "outputs": [],
   "source": [
    "train_x, test_x, train_y, test_y = train_test_split(X, y, test_size=0.2, random_state=1)"
   ]
  },
  {
   "cell_type": "code",
   "execution_count": 14,
   "metadata": {
    "execution": {
     "iopub.execute_input": "2021-08-28T18:05:35.350901Z",
     "iopub.status.busy": "2021-08-28T18:05:35.350556Z",
     "iopub.status.idle": "2021-08-28T18:05:35.357627Z",
     "shell.execute_reply": "2021-08-28T18:05:35.356681Z",
     "shell.execute_reply.started": "2021-08-28T18:05:35.350855Z"
    }
   },
   "outputs": [],
   "source": [
    "vocab_size = 1000\n",
    "embedding_dim = 16\n",
    "max_length = 200\n",
    "trunc_type = 'post'\n",
    "padding_type = 'post'\n",
    "oov_tok = '<OOV>'"
   ]
  },
  {
   "cell_type": "code",
   "execution_count": 15,
   "metadata": {
    "execution": {
     "iopub.execute_input": "2021-08-28T18:05:36.539764Z",
     "iopub.status.busy": "2021-08-28T18:05:36.539445Z",
     "iopub.status.idle": "2021-08-28T18:05:36.854647Z",
     "shell.execute_reply": "2021-08-28T18:05:36.853815Z",
     "shell.execute_reply.started": "2021-08-28T18:05:36.539734Z"
    }
   },
   "outputs": [],
   "source": [
    "tokenizer = Tokenizer(num_words=vocab_size, oov_token=oov_tok)\n",
    "tokenizer.fit_on_texts(train_x)\n",
    "\n",
    "word_index = tokenizer.word_index\n",
    "\n",
    "training_sequence = tokenizer.texts_to_sequences(train_x)\n",
    "training_padded = pad_sequences(training_sequence, maxlen=max_length, padding=padding_type, truncating=trunc_type)\n",
    "\n",
    "testing_sequence = tokenizer.texts_to_sequences(test_x)\n",
    "testing_padded = pad_sequences(testing_sequence, maxlen=max_length, padding=padding_type, truncating=trunc_type)"
   ]
  },
  {
   "cell_type": "code",
   "execution_count": null,
   "metadata": {},
   "outputs": [],
   "source": [
    "training_padded = np.array(training_padded)\n",
    "training_labels = np.array(train_y)\n",
    "\n",
    "testing_padded = np.array(testing_padded)\n",
    "testing_labels = np.array(test_y)"
   ]
  },
  {
   "cell_type": "code",
   "execution_count": 74,
   "metadata": {
    "execution": {
     "iopub.execute_input": "2021-08-28T18:46:22.840356Z",
     "iopub.status.busy": "2021-08-28T18:46:22.840031Z",
     "iopub.status.idle": "2021-08-28T18:46:23.701442Z",
     "shell.execute_reply": "2021-08-28T18:46:23.700592Z",
     "shell.execute_reply.started": "2021-08-28T18:46:22.840328Z"
    }
   },
   "outputs": [],
   "source": [
    "model = tf.keras.Sequential([\n",
    "    tf.keras.layers.Embedding(vocab_size, embedding_dim, input_length=max_length),\n",
    "    tf.keras.layers.Bidirectional(tf.keras.layers.LSTM(64, return_sequences=True)),\n",
    "    tf.keras.layers.Bidirectional(tf.keras.layers.LSTM(32)),\n",
    "    tf.keras.layers.Dense(24, activation='relu'),\n",
    "    tf.keras.layers.Dropout(0.05),\n",
    "    tf.keras.layers.Dense(1, activation='sigmoid')\n",
    "])"
   ]
  },
  {
   "cell_type": "code",
   "execution_count": 75,
   "metadata": {
    "execution": {
     "iopub.execute_input": "2021-08-28T18:46:25.964865Z",
     "iopub.status.busy": "2021-08-28T18:46:25.964525Z",
     "iopub.status.idle": "2021-08-28T18:46:25.977649Z",
     "shell.execute_reply": "2021-08-28T18:46:25.976417Z",
     "shell.execute_reply.started": "2021-08-28T18:46:25.964833Z"
    }
   },
   "outputs": [],
   "source": [
    "model.compile(optimizer='adam', loss='binary_crossentropy', metrics=['binary_accuracy'])"
   ]
  },
  {
   "cell_type": "code",
   "execution_count": 76,
   "metadata": {
    "execution": {
     "iopub.execute_input": "2021-08-28T18:46:28.779823Z",
     "iopub.status.busy": "2021-08-28T18:46:28.779497Z",
     "iopub.status.idle": "2021-08-28T18:48:51.057847Z",
     "shell.execute_reply": "2021-08-28T18:48:51.056850Z",
     "shell.execute_reply.started": "2021-08-28T18:46:28.779792Z"
    }
   },
   "outputs": [
    {
     "name": "stdout",
     "output_type": "stream",
     "text": [
      "Epoch 1/20\n",
      "191/191 - 14s - loss: 0.5598 - binary_accuracy: 0.7044 - val_loss: 0.4585 - val_binary_accuracy: 0.7899\n",
      "Epoch 2/20\n",
      "191/191 - 7s - loss: 0.4421 - binary_accuracy: 0.8092 - val_loss: 0.4545 - val_binary_accuracy: 0.7984\n",
      "Epoch 3/20\n",
      "191/191 - 7s - loss: 0.4033 - binary_accuracy: 0.8263 - val_loss: 0.4605 - val_binary_accuracy: 0.7912\n",
      "Epoch 4/20\n",
      "191/191 - 7s - loss: 0.3824 - binary_accuracy: 0.8351 - val_loss: 0.4605 - val_binary_accuracy: 0.7892\n",
      "Epoch 5/20\n",
      "191/191 - 7s - loss: 0.3684 - binary_accuracy: 0.8452 - val_loss: 0.4884 - val_binary_accuracy: 0.7807\n",
      "Epoch 6/20\n",
      "191/191 - 7s - loss: 0.3585 - binary_accuracy: 0.8521 - val_loss: 0.5053 - val_binary_accuracy: 0.7800\n",
      "Epoch 7/20\n",
      "191/191 - 7s - loss: 0.3475 - binary_accuracy: 0.8594 - val_loss: 0.5020 - val_binary_accuracy: 0.7807\n",
      "Epoch 8/20\n",
      "191/191 - 7s - loss: 0.3354 - binary_accuracy: 0.8698 - val_loss: 0.5460 - val_binary_accuracy: 0.7768\n",
      "Epoch 9/20\n",
      "191/191 - 7s - loss: 0.3294 - binary_accuracy: 0.8708 - val_loss: 0.5070 - val_binary_accuracy: 0.7787\n",
      "Epoch 10/20\n",
      "191/191 - 6s - loss: 0.3126 - binary_accuracy: 0.8811 - val_loss: 0.5401 - val_binary_accuracy: 0.7774\n",
      "Epoch 11/20\n",
      "191/191 - 6s - loss: 0.2975 - binary_accuracy: 0.8890 - val_loss: 0.5551 - val_binary_accuracy: 0.7748\n",
      "Epoch 12/20\n",
      "191/191 - 7s - loss: 0.2921 - binary_accuracy: 0.8947 - val_loss: 0.5687 - val_binary_accuracy: 0.7722\n",
      "Epoch 13/20\n",
      "191/191 - 7s - loss: 0.2786 - binary_accuracy: 0.8998 - val_loss: 0.5905 - val_binary_accuracy: 0.7702\n",
      "Epoch 14/20\n",
      "191/191 - 7s - loss: 0.2710 - binary_accuracy: 0.9011 - val_loss: 0.5957 - val_binary_accuracy: 0.7656\n",
      "Epoch 15/20\n",
      "191/191 - 7s - loss: 0.2579 - binary_accuracy: 0.9084 - val_loss: 0.6975 - val_binary_accuracy: 0.7577\n",
      "Epoch 16/20\n",
      "191/191 - 7s - loss: 0.2443 - binary_accuracy: 0.9166 - val_loss: 0.6350 - val_binary_accuracy: 0.7636\n",
      "Epoch 17/20\n",
      "191/191 - 7s - loss: 0.2411 - binary_accuracy: 0.9158 - val_loss: 0.6864 - val_binary_accuracy: 0.7689\n",
      "Epoch 18/20\n",
      "191/191 - 7s - loss: 0.2345 - binary_accuracy: 0.9186 - val_loss: 0.6584 - val_binary_accuracy: 0.7663\n",
      "Epoch 19/20\n",
      "191/191 - 7s - loss: 0.2255 - binary_accuracy: 0.9230 - val_loss: 0.7182 - val_binary_accuracy: 0.7557\n",
      "Epoch 20/20\n",
      "191/191 - 7s - loss: 0.2117 - binary_accuracy: 0.9310 - val_loss: 0.8172 - val_binary_accuracy: 0.7577\n"
     ]
    }
   ],
   "source": [
    "history = model.fit(training_padded, train_y, epochs=20, validation_data=(testing_padded, test_y), verbose=2)"
   ]
  },
  {
   "cell_type": "code",
   "execution_count": 77,
   "metadata": {
    "execution": {
     "iopub.execute_input": "2021-08-28T18:48:58.942454Z",
     "iopub.status.busy": "2021-08-28T18:48:58.942093Z",
     "iopub.status.idle": "2021-08-28T18:48:59.460501Z",
     "shell.execute_reply": "2021-08-28T18:48:59.459632Z",
     "shell.execute_reply.started": "2021-08-28T18:48:58.942424Z"
    }
   },
   "outputs": [
    {
     "data": {
      "image/png": "[encoded data removed]",
      "text/plain": [
       "<Figure size 432x288 with 1 Axes>"
      ]
     },
     "metadata": {
      "needs_background": "light"
     },
     "output_type": "display_data"
    },
    {
     "data": {
      "image/png": "[encoded data removed]",
      "text/plain": [
       "<Figure size 432x288 with 1 Axes>"
      ]
     },
     "metadata": {
      "needs_background": "light"
     },
     "output_type": "display_data"
    }
   ],
   "source": [
    "def plot_graphs(history, string):\n",
    "  plt.plot(history.history[string])\n",
    "  plt.plot(history.history['val_'+string])\n",
    "  plt.xlabel(\"Epochs\")\n",
    "  plt.ylabel(string)\n",
    "  plt.legend([string, 'val_'+string])\n",
    "  plt.show()\n",
    "  \n",
    "plot_graphs(history, \"binary_accuracy\")\n",
    "plot_graphs(history, \"loss\")"
   ]
  },
  {
   "cell_type": "code",
   "execution_count": 78,
   "metadata": {
    "execution": {
     "iopub.execute_input": "2021-08-28T18:49:04.150504Z",
     "iopub.status.busy": "2021-08-28T18:49:04.150175Z",
     "iopub.status.idle": "2021-08-28T18:49:04.501615Z",
     "shell.execute_reply": "2021-08-28T18:49:04.500876Z",
     "shell.execute_reply.started": "2021-08-28T18:49:04.150474Z"
    }
   },
   "outputs": [
    {
     "name": "stdout",
     "output_type": "stream",
     "text": [
      "12/12 [==============================] - 0s 25ms/step - loss: 0.8172 - binary_accuracy: 0.7577\n"
     ]
    },
    {
     "data": {
      "text/plain": [
       "[0.8172408938407898, 0.7577150464057922]"
      ]
     },
     "execution_count": 78,
     "metadata": {},
     "output_type": "execute_result"
    }
   ],
   "source": [
    "model.evaluate(testing_padded, test_y, batch_size=128)"
   ]
  },
  {
   "cell_type": "code",
   "execution_count": 79,
   "metadata": {
    "execution": {
     "iopub.execute_input": "2021-08-28T18:49:13.430773Z",
     "iopub.status.busy": "2021-08-28T18:49:13.430423Z",
     "iopub.status.idle": "2021-08-28T18:49:14.810731Z",
     "shell.execute_reply": "2021-08-28T18:49:14.809779Z",
     "shell.execute_reply.started": "2021-08-28T18:49:13.430739Z"
    }
   },
   "outputs": [],
   "source": [
    "test_data['text'] = test_data.text.apply(lambda x: clean_text(str(x)))\n",
    "\n",
    "tokenizer.fit_on_texts(test_data.text)\n",
    "\n",
    "word_index = tokenizer.word_index\n",
    "\n",
    "sequences = tokenizer.texts_to_sequences(test_data.text)\n",
    "\n",
    "test_text = tf.keras.preprocessing.sequence.pad_sequences(sequences, maxlen=max_length)"
   ]
  },
  {
   "cell_type": "code",
   "execution_count": 80,
   "metadata": {
    "execution": {
     "iopub.execute_input": "2021-08-28T18:49:16.369948Z",
     "iopub.status.busy": "2021-08-28T18:49:16.369580Z",
     "iopub.status.idle": "2021-08-28T18:49:20.522924Z",
     "shell.execute_reply": "2021-08-28T18:49:20.521978Z",
     "shell.execute_reply.started": "2021-08-28T18:49:16.369912Z"
    }
   },
   "outputs": [],
   "source": [
    "test_pred = model.predict(test_text)"
   ]
  },
  {
   "cell_type": "code",
   "execution_count": 54,
   "metadata": {
    "execution": {
     "iopub.execute_input": "2021-08-28T18:38:40.289716Z",
     "iopub.status.busy": "2021-08-28T18:38:40.289391Z",
     "iopub.status.idle": "2021-08-28T18:38:40.308748Z",
     "shell.execute_reply": "2021-08-28T18:38:40.307653Z",
     "shell.execute_reply.started": "2021-08-28T18:38:40.289686Z"
    }
   },
   "outputs": [],
   "source": [
    "test_pred = list(map(lambda x: 0 if x<0.5 else 1, test_pred))"
   ]
  },
  {
   "cell_type": "code",
   "execution_count": 81,
   "metadata": {
    "execution": {
     "iopub.execute_input": "2021-08-28T18:49:23.140922Z",
     "iopub.status.busy": "2021-08-28T18:49:23.140566Z",
     "iopub.status.idle": "2021-08-28T18:49:23.149361Z",
     "shell.execute_reply": "2021-08-28T18:49:23.148225Z",
     "shell.execute_reply.started": "2021-08-28T18:49:23.140868Z"
    }
   },
   "outputs": [],
   "source": [
    "submission = pd.DataFrame()\n",
    "submission['Id'] = test_data.id\n",
    "submission['target'] = test_pred"
   ]
  },
  {
   "cell_type": "code",
   "execution_count": 82,
   "metadata": {
    "execution": {
     "iopub.execute_input": "2021-08-28T18:49:24.431134Z",
     "iopub.status.busy": "2021-08-28T18:49:24.430767Z",
     "iopub.status.idle": "2021-08-28T18:49:24.440183Z",
     "shell.execute_reply": "2021-08-28T18:49:24.438789Z",
     "shell.execute_reply.started": "2021-08-28T18:49:24.431103Z"
    }
   },
   "outputs": [
    {
     "data": {
      "text/plain": [
       "6801"
      ]
     },
     "execution_count": 82,
     "metadata": {},
     "output_type": "execute_result"
    }
   ],
   "source": [
    "submission.target.nunique()"
   ]
  },
  {
   "cell_type": "code",
   "execution_count": 83,
   "metadata": {
    "execution": {
     "iopub.execute_input": "2021-08-28T18:49:27.469779Z",
     "iopub.status.busy": "2021-08-28T18:49:27.469447Z",
     "iopub.status.idle": "2021-08-28T18:49:27.479231Z",
     "shell.execute_reply": "2021-08-28T18:49:27.478341Z",
     "shell.execute_reply.started": "2021-08-28T18:49:27.469749Z"
    }
   },
   "outputs": [
    {
     "data": {
      "text/html": [
       "<div>\n",
       "<style scoped>\n",
       "    .dataframe tbody tr th:only-of-type {\n",
       "        vertical-align: middle;\n",
       "    }\n",
       "\n",
       "    .dataframe tbody tr th {\n",
       "        vertical-align: top;\n",
       "    }\n",
       "\n",
       "    .dataframe thead th {\n",
       "        text-align: right;\n",
       "    }\n",
       "</style>\n",
       "<table border=\"1\" class=\"dataframe\">\n",
       "  <thead>\n",
       "    <tr style=\"text-align: right;\">\n",
       "      <th></th>\n",
       "      <th>Id</th>\n",
       "      <th>target</th>\n",
       "    </tr>\n",
       "  </thead>\n",
       "  <tbody>\n",
       "    <tr>\n",
       "      <th>0</th>\n",
       "      <td>1</td>\n",
       "      <td>0.054472</td>\n",
       "    </tr>\n",
       "    <tr>\n",
       "      <th>1</th>\n",
       "      <td>4</td>\n",
       "      <td>0.052299</td>\n",
       "    </tr>\n",
       "    <tr>\n",
       "      <th>2</th>\n",
       "      <td>5</td>\n",
       "      <td>0.060116</td>\n",
       "    </tr>\n",
       "    <tr>\n",
       "      <th>3</th>\n",
       "      <td>6</td>\n",
       "      <td>0.053155</td>\n",
       "    </tr>\n",
       "    <tr>\n",
       "      <th>4</th>\n",
       "      <td>7</td>\n",
       "      <td>0.073155</td>\n",
       "    </tr>\n",
       "  </tbody>\n",
       "</table>\n",
       "</div>"
      ],
      "text/plain": [
       "   Id    target\n",
       "0   1  0.054472\n",
       "1   4  0.052299\n",
       "2   5  0.060116\n",
       "3   6  0.053155\n",
       "4   7  0.073155"
      ]
     },
     "execution_count": 83,
     "metadata": {},
     "output_type": "execute_result"
    }
   ],
   "source": [
    "submission.head()"
   ]
  },
  {
   "cell_type": "code",
   "execution_count": 84,
   "metadata": {
    "execution": {
     "iopub.execute_input": "2021-08-28T18:49:31.594952Z",
     "iopub.status.busy": "2021-08-28T18:49:31.594565Z",
     "iopub.status.idle": "2021-08-28T18:49:31.604658Z",
     "shell.execute_reply": "2021-08-28T18:49:31.603467Z",
     "shell.execute_reply.started": "2021-08-28T18:49:31.594914Z"
    }
   },
   "outputs": [
    {
     "data": {
      "text/plain": [
       "0.10422724485397339"
      ]
     },
     "execution_count": 84,
     "metadata": {},
     "output_type": "execute_result"
    }
   ],
   "source": [
    "submission.target.max()"
   ]
  },
  {
   "cell_type": "code",
   "execution_count": 23,
   "metadata": {
    "execution": {
     "iopub.execute_input": "2021-08-28T18:12:38.886620Z",
     "iopub.status.busy": "2021-08-28T18:12:38.886292Z",
     "iopub.status.idle": "2021-08-28T18:12:43.148206Z",
     "shell.execute_reply": "2021-08-28T18:12:43.147336Z",
     "shell.execute_reply.started": "2021-08-28T18:12:38.886588Z"
    }
   },
   "outputs": [
    {
     "name": "stderr",
     "output_type": "stream",
     "text": [
      "/opt/conda/lib/python3.7/site-packages/tensorflow/python/keras/engine/sequential.py:450: UserWarning: `model.predict_classes()` is deprecated and will be removed after 2021-01-01. Please use instead:* `np.argmax(model.predict(x), axis=-1)`,   if your model does multi-class classification   (e.g. if it uses a `softmax` last-layer activation).* `(model.predict(x) > 0.5).astype(\"int32\")`,   if your model does binary classification   (e.g. if it uses a `sigmoid` last-layer activation).\n",
      "  warnings.warn('`model.predict_classes()` is deprecated and '\n"
     ]
    }
   ],
   "source": [
    "submission.to_csv('submission1.csv', index=False)"
   ]
  },
  {
   "cell_type": "code",
   "execution_count": null,
   "metadata": {},
   "outputs": [],
   "source": []
  }
 ],
 "metadata": {
  "kernelspec": {
   "display_name": "Python 3",
   "language": "python",
   "name": "python3"
  },
  "language_info": {
   "codemirror_mode": {
    "name": "ipython",
    "version": 3
   },
   "file_extension": ".py",
   "mimetype": "text/x-python",
   "name": "python",
   "nbconvert_exporter": "python",
   "pygments_lexer": "ipython3",
   "version": "3.8.5"
  }
 },
 "nbformat": 4,
 "nbformat_minor": 4
}
